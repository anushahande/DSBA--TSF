{
  "nbformat": 4,
  "nbformat_minor": 0,
  "metadata": {
    "colab": {
      "name": "Prediction using Supervised ML.ipynb",
      "provenance": []
    },
    "kernelspec": {
      "name": "python3",
      "display_name": "Python 3"
    }
  },
  "cells": [
    {
      "cell_type": "markdown",
      "metadata": {
        "id": "l139-D3mN3qt"
      },
      "source": [
        "# **Prediction using Supervised ML**\n",
        "\n",
        "Predicting the percentage of marks of an student based on the number of study hours.\n",
        "\n",
        "We use Simple Linear Regression as it involves just 2 variables."
      ]
    },
    {
      "cell_type": "code",
      "metadata": {
        "id": "7RgXbr7EMsgQ"
      },
      "source": [
        "import pandas as pd\n",
        "import numpy as np\n",
        "import matplotlib.pyplot as plt\n",
        "%matplotlib inline"
      ],
      "execution_count": 1,
      "outputs": []
    },
    {
      "cell_type": "markdown",
      "metadata": {
        "id": "nfaBajOYPWmH"
      },
      "source": [
        "### **Import and Explore Data**\n",
        "\n",
        "Importing the data and exploring the dataset a bit.\n",
        "\n",
        "\n"
      ]
    },
    {
      "cell_type": "code",
      "metadata": {
        "id": "o6vAhWwGOpr6",
        "outputId": "4dce5ef6-5867-4304-d49f-e08626549689",
        "colab": {
          "base_uri": "https://localhost:8080/",
          "height": 34
        }
      },
      "source": [
        "marks= \"http://bit.ly/w-data\"\n",
        "data= pd.read_csv(marks)\n",
        "data.shape"
      ],
      "execution_count": 7,
      "outputs": [
        {
          "output_type": "execute_result",
          "data": {
            "text/plain": [
              "(25, 2)"
            ]
          },
          "metadata": {
            "tags": []
          },
          "execution_count": 7
        }
      ]
    },
    {
      "cell_type": "code",
      "metadata": {
        "id": "88lGVcQ8PvGh",
        "outputId": "d6934c61-5dc1-4e16-aa36-2004d1dcf982",
        "colab": {
          "base_uri": "https://localhost:8080/",
          "height": 195
        }
      },
      "source": [
        "data.head()"
      ],
      "execution_count": 8,
      "outputs": [
        {
          "output_type": "execute_result",
          "data": {
            "text/html": [
              "<div>\n",
              "<style scoped>\n",
              "    .dataframe tbody tr th:only-of-type {\n",
              "        vertical-align: middle;\n",
              "    }\n",
              "\n",
              "    .dataframe tbody tr th {\n",
              "        vertical-align: top;\n",
              "    }\n",
              "\n",
              "    .dataframe thead th {\n",
              "        text-align: right;\n",
              "    }\n",
              "</style>\n",
              "<table border=\"1\" class=\"dataframe\">\n",
              "  <thead>\n",
              "    <tr style=\"text-align: right;\">\n",
              "      <th></th>\n",
              "      <th>Hours</th>\n",
              "      <th>Scores</th>\n",
              "    </tr>\n",
              "  </thead>\n",
              "  <tbody>\n",
              "    <tr>\n",
              "      <th>0</th>\n",
              "      <td>2.5</td>\n",
              "      <td>21</td>\n",
              "    </tr>\n",
              "    <tr>\n",
              "      <th>1</th>\n",
              "      <td>5.1</td>\n",
              "      <td>47</td>\n",
              "    </tr>\n",
              "    <tr>\n",
              "      <th>2</th>\n",
              "      <td>3.2</td>\n",
              "      <td>27</td>\n",
              "    </tr>\n",
              "    <tr>\n",
              "      <th>3</th>\n",
              "      <td>8.5</td>\n",
              "      <td>75</td>\n",
              "    </tr>\n",
              "    <tr>\n",
              "      <th>4</th>\n",
              "      <td>3.5</td>\n",
              "      <td>30</td>\n",
              "    </tr>\n",
              "  </tbody>\n",
              "</table>\n",
              "</div>"
            ],
            "text/plain": [
              "   Hours  Scores\n",
              "0    2.5      21\n",
              "1    5.1      47\n",
              "2    3.2      27\n",
              "3    8.5      75\n",
              "4    3.5      30"
            ]
          },
          "metadata": {
            "tags": []
          },
          "execution_count": 8
        }
      ]
    },
    {
      "cell_type": "markdown",
      "metadata": {
        "id": "AXbmLpHKQCt_"
      },
      "source": [
        "### **Relationship between Data**\n",
        "\n",
        "Plotting data points on 2-D graph to see if we can manually find any \n",
        "relationship between the data."
      ]
    },
    {
      "cell_type": "code",
      "metadata": {
        "id": "Ujdh_BR3QD2R",
        "outputId": "419c7933-cef8-4aef-bcee-392b36c6e8b8",
        "colab": {
          "base_uri": "https://localhost:8080/",
          "height": 295
        }
      },
      "source": [
        "data.plot(x='Hours', y='Scores', style='o')\n",
        "plt.title('Hours vs Percentage')\n",
        "plt.xlabel('Hours Studied')\n",
        "plt.ylabel('Percentage')\n",
        "plt.show()"
      ],
      "execution_count": 9,
      "outputs": [
        {
          "output_type": "display_data",
          "data": {
            "image/png": "[encoded data removed]",
            "text/plain": [
              "<Figure size 432x288 with 1 Axes>"
            ]
          },
          "metadata": {
            "tags": [],
            "needs_background": "light"
          }
        }
      ]
    },
    {
      "cell_type": "markdown",
      "metadata": {
        "id": "Y0y8D8qBQ4sZ"
      },
      "source": [
        "***There is a positive linear relation between the number of hours studied and percentage of score.***"
      ]
    },
    {
      "cell_type": "markdown",
      "metadata": {
        "id": "ZTSCftCsRYWn"
      },
      "source": [
        "### **Attributes and Values**\n",
        "\n",
        "The attribute set will consist of the \"Hours\" column, and the label will be the \"Score\" column.\n",
        "\n",
        "We need to split our data into training and testing sets. In this case we have split 80% of the data to training set while 20% of the data to test set."
      ]
    },
    {
      "cell_type": "code",
      "metadata": {
        "id": "rxi2gDP_RfNN"
      },
      "source": [
        "X = data.iloc[:, :-1].values\n",
        "X =X.reshape(-1,1)\n",
        "y = data.iloc[:, 1].values\n",
        "y = y.reshape (-1,1)"
      ],
      "execution_count": 26,
      "outputs": []
    },
    {
      "cell_type": "code",
      "metadata": {
        "id": "mHTAyspgUi36"
      },
      "source": [
        "from sklearn.model_selection import train_test_split\n",
        "X_train, X_test, y_train, y_test = train_test_split(X, y, test_size=0.2, random_state=0)"
      ],
      "execution_count": 11,
      "outputs": []
    },
    {
      "cell_type": "markdown",
      "metadata": {
        "id": "i0cG1UQfUrLx"
      },
      "source": [
        "###**Training the Algorithm**\n",
        "\n",
        "We need to implement linear regression models, import the LinearRegression class, instantiate it, and call the fit() method along with the training data."
      ]
    },
    {
      "cell_type": "code",
      "metadata": {
        "id": "8DqZxU8eVwM8",
        "outputId": "1b2e69dc-bf23-4817-c66c-35b80fcc9ae7",
        "colab": {
          "base_uri": "https://localhost:8080/",
          "height": 34
        }
      },
      "source": [
        "from sklearn.linear_model import LinearRegression\n",
        "regressor = LinearRegression()\n",
        "regressor.fit(X_train, y_train)"
      ],
      "execution_count": 12,
      "outputs": [
        {
          "output_type": "execute_result",
          "data": {
            "text/plain": [
              "LinearRegression(copy_X=True, fit_intercept=True, n_jobs=None, normalize=False)"
            ]
          },
          "metadata": {
            "tags": []
          },
          "execution_count": 12
        }
      ]
    },
    {
      "cell_type": "markdown",
      "metadata": {
        "id": "A9d7dT7rWFJk"
      },
      "source": [
        "Linear regression model basically finds the best value for the intercept and slope, which results in a line that best fits the data."
      ]
    },
    {
      "cell_type": "code",
      "metadata": {
        "id": "B0_wFOTwV48o",
        "outputId": "00e32a05-2145-4923-86ec-34096f593a21",
        "colab": {
          "base_uri": "https://localhost:8080/",
          "height": 34
        }
      },
      "source": [
        "print(regressor.intercept_)"
      ],
      "execution_count": 13,
      "outputs": [
        {
          "output_type": "stream",
          "text": [
            "2.018160041434662\n"
          ],
          "name": "stdout"
        }
      ]
    },
    {
      "cell_type": "code",
      "metadata": {
        "id": "jT1NoZmaWLzL",
        "outputId": "dda1fc70-b54a-4b11-e524-cc3dc03aface",
        "colab": {
          "base_uri": "https://localhost:8080/",
          "height": 34
        }
      },
      "source": [
        "print(regressor.coef_)"
      ],
      "execution_count": 14,
      "outputs": [
        {
          "output_type": "stream",
          "text": [
            "[9.91065648]\n"
          ],
          "name": "stdout"
        }
      ]
    },
    {
      "cell_type": "markdown",
      "metadata": {
        "id": "JWiUqUlwWTip"
      },
      "source": [
        "***If a student studies one hour more than they previously studied for an exam, they can expect to achieve an increase of 9.91% in the score achieved by the student previously.***"
      ]
    },
    {
      "cell_type": "markdown",
      "metadata": {
        "id": "Nl_0X3lSWjeN"
      },
      "source": [
        "### **Making Predictions**\n",
        "\n",
        "After we have trained our algorithm, it's time to make some predictions.\n",
        "\n",
        "We will use our test data and see how accurately our algorithm predicts the percentage score."
      ]
    },
    {
      "cell_type": "code",
      "metadata": {
        "id": "hHUyAZFdW4H4",
        "outputId": "c84737cf-9b4c-4cea-8ed5-a26458879e6b",
        "colab": {
          "base_uri": "https://localhost:8080/",
          "height": 101
        }
      },
      "source": [
        "print(X_test)\n",
        "y_pred = regressor.predict(X_test)"
      ],
      "execution_count": 17,
      "outputs": [
        {
          "output_type": "stream",
          "text": [
            "[[1.5]\n",
            " [3.2]\n",
            " [7.4]\n",
            " [2.5]\n",
            " [5.9]]\n"
          ],
          "name": "stdout"
        }
      ]
    },
    {
      "cell_type": "code",
      "metadata": {
        "id": "R4Ox5ZxqWe-t",
        "outputId": "bd0caad3-4b3e-4a45-df9c-def1519642c0",
        "colab": {
          "base_uri": "https://localhost:8080/",
          "height": 195
        }
      },
      "source": [
        "df = pd.DataFrame({'Actual': y_test, 'Predicted': y_pred})\n",
        "df"
      ],
      "execution_count": 28,
      "outputs": [
        {
          "output_type": "execute_result",
          "data": {
            "text/html": [
              "<div>\n",
              "<style scoped>\n",
              "    .dataframe tbody tr th:only-of-type {\n",
              "        vertical-align: middle;\n",
              "    }\n",
              "\n",
              "    .dataframe tbody tr th {\n",
              "        vertical-align: top;\n",
              "    }\n",
              "\n",
              "    .dataframe thead th {\n",
              "        text-align: right;\n",
              "    }\n",
              "</style>\n",
              "<table border=\"1\" class=\"dataframe\">\n",
              "  <thead>\n",
              "    <tr style=\"text-align: right;\">\n",
              "      <th></th>\n",
              "      <th>Actual</th>\n",
              "      <th>Predicted</th>\n",
              "    </tr>\n",
              "  </thead>\n",
              "  <tbody>\n",
              "    <tr>\n",
              "      <th>0</th>\n",
              "      <td>20</td>\n",
              "      <td>16.884145</td>\n",
              "    </tr>\n",
              "    <tr>\n",
              "      <th>1</th>\n",
              "      <td>27</td>\n",
              "      <td>33.732261</td>\n",
              "    </tr>\n",
              "    <tr>\n",
              "      <th>2</th>\n",
              "      <td>69</td>\n",
              "      <td>75.357018</td>\n",
              "    </tr>\n",
              "    <tr>\n",
              "      <th>3</th>\n",
              "      <td>30</td>\n",
              "      <td>26.794801</td>\n",
              "    </tr>\n",
              "    <tr>\n",
              "      <th>4</th>\n",
              "      <td>62</td>\n",
              "      <td>60.491033</td>\n",
              "    </tr>\n",
              "  </tbody>\n",
              "</table>\n",
              "</div>"
            ],
            "text/plain": [
              "   Actual  Predicted\n",
              "0      20  16.884145\n",
              "1      27  33.732261\n",
              "2      69  75.357018\n",
              "3      30  26.794801\n",
              "4      62  60.491033"
            ]
          },
          "metadata": {
            "tags": []
          },
          "execution_count": 28
        }
      ]
    },
    {
      "cell_type": "code",
      "metadata": {
        "id": "SdUoKmyUZCt2",
        "outputId": "c71814e0-4d9c-45b3-f3b2-2d0bb46ccecb",
        "colab": {
          "base_uri": "https://localhost:8080/",
          "height": 50
        }
      },
      "source": [
        "hrs = 9.25\n",
        "pred = regressor.predict([[hrs]])\n",
        "print(\"No of Hours = {}\".format(hrs))\n",
        "print(\"Predicted Score = {}\".format(pred[0]))"
      ],
      "execution_count": 30,
      "outputs": [
        {
          "output_type": "stream",
          "text": [
            "No of Hours = 9.25\n",
            "Predicted Score = 93.69173248737539\n"
          ],
          "name": "stdout"
        }
      ]
    },
    {
      "cell_type": "markdown",
      "metadata": {
        "id": "pj0Tsu4IYRE-"
      },
      "source": [
        "###**Evaluating the Algorithm**\n",
        "\n",
        "The final step is to evaluate the performance of algorithm.\n"
      ]
    },
    {
      "cell_type": "code",
      "metadata": {
        "id": "SJmxG_ITYkDZ",
        "outputId": "956d687f-5e02-42be-98b7-4053a46c1136",
        "colab": {
          "base_uri": "https://localhost:8080/",
          "height": 50
        }
      },
      "source": [
        "from sklearn import metrics\n",
        "print('Mean Absolute Error:', metrics.mean_absolute_error(y_test, y_pred))\n",
        "print('Root Mean Squared Error:', np.sqrt(metrics.mean_squared_error(y_test, y_pred)))"
      ],
      "execution_count": 19,
      "outputs": [
        {
          "output_type": "stream",
          "text": [
            "Mean Absolute Error: 4.183859899002982\n",
            "Root Mean Squared Error: 4.647447612100373\n"
          ],
          "name": "stdout"
        }
      ]
    },
    {
      "cell_type": "markdown",
      "metadata": {
        "id": "AdQnJ5Cwj7Tw"
      },
      "source": [
        "Value of root mean squared error is 4.64, which is less than 10% of the mean value of the percentages of all the students i.e. 51.48"
      ]
    }
  ]
}