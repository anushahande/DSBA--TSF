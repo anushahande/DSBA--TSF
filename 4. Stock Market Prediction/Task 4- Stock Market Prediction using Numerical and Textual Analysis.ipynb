{
 "cells": [
  {
   "cell_type": "markdown",
   "metadata": {},
   "source": [
    "# Stock Market Prediction using Numerical and Textual Analysis\n",
    "\n",
    "Creating a hybrid model for stock price/performance prediction using \n",
    "numerical analysis of historical stock prices, and sentimental analysis of news headlines.\n",
    "\n"
   ]
  },
  {
   "cell_type": "code",
   "execution_count": 2,
   "metadata": {
    "scrolled": true
   },
   "outputs": [
    {
     "name": "stdout",
     "output_type": "stream",
     "text": [
      "Requirement already satisfied: yahoo_finance_api2 in c:\\users\\anusha\\anaconda3\\lib\\site-packages (0.0.9)\n",
      "Requirement already satisfied: pyyaml in c:\\users\\anusha\\anaconda3\\lib\\site-packages (from yahoo_finance_api2) (5.1)\n",
      "Requirement already satisfied: requests in c:\\users\\anusha\\anaconda3\\lib\\site-packages (from yahoo_finance_api2) (2.21.0)\n",
      "Requirement already satisfied: idna<2.9,>=2.5 in c:\\users\\anusha\\anaconda3\\lib\\site-packages (from requests->yahoo_finance_api2) (2.8)\n",
      "Requirement already satisfied: certifi>=2017.4.17 in c:\\users\\anusha\\anaconda3\\lib\\site-packages (from requests->yahoo_finance_api2) (2019.3.9)\n",
      "Requirement already satisfied: urllib3<1.25,>=1.21.1 in c:\\users\\anusha\\anaconda3\\lib\\site-packages (from requests->yahoo_finance_api2) (1.24.1)\n",
      "Requirement already satisfied: chardet<3.1.0,>=3.0.2 in c:\\users\\anusha\\anaconda3\\lib\\site-packages (from requests->yahoo_finance_api2) (3.0.4)\n",
      "Requirement already satisfied: yfinance in c:\\users\\anusha\\anaconda3\\lib\\site-packages (0.1.55)\n",
      "Requirement already satisfied: numpy>=1.15 in c:\\users\\anusha\\anaconda3\\lib\\site-packages (from yfinance) (1.16.2)\n",
      "Requirement already satisfied: multitasking>=0.0.7 in c:\\users\\anusha\\anaconda3\\lib\\site-packages (from yfinance) (0.0.9)\n",
      "Requirement already satisfied: lxml>=4.5.1 in c:\\users\\anusha\\anaconda3\\lib\\site-packages (from yfinance) (4.6.0)\n",
      "Requirement already satisfied: pandas>=0.24 in c:\\users\\anusha\\anaconda3\\lib\\site-packages (from yfinance) (0.24.2)\n",
      "Requirement already satisfied: requests>=2.20 in c:\\users\\anusha\\anaconda3\\lib\\site-packages (from yfinance) (2.21.0)\n",
      "Requirement already satisfied: python-dateutil>=2.5.0 in c:\\users\\anusha\\anaconda3\\lib\\site-packages (from pandas>=0.24->yfinance) (2.8.0)\n",
      "Requirement already satisfied: pytz>=2011k in c:\\users\\anusha\\anaconda3\\lib\\site-packages (from pandas>=0.24->yfinance) (2018.9)\n",
      "Requirement already satisfied: urllib3<1.25,>=1.21.1 in c:\\users\\anusha\\anaconda3\\lib\\site-packages (from requests>=2.20->yfinance) (1.24.1)\n",
      "Requirement already satisfied: certifi>=2017.4.17 in c:\\users\\anusha\\anaconda3\\lib\\site-packages (from requests>=2.20->yfinance) (2019.3.9)\n",
      "Requirement already satisfied: chardet<3.1.0,>=3.0.2 in c:\\users\\anusha\\anaconda3\\lib\\site-packages (from requests>=2.20->yfinance) (3.0.4)\n",
      "Requirement already satisfied: idna<2.9,>=2.5 in c:\\users\\anusha\\anaconda3\\lib\\site-packages (from requests>=2.20->yfinance) (2.8)\n",
      "Requirement already satisfied: six>=1.5 in c:\\users\\anusha\\appdata\\roaming\\python\\python37\\site-packages (from python-dateutil>=2.5.0->pandas>=0.24->yfinance) (1.14.0)\n",
      "Requirement already satisfied: textblob in c:\\users\\anusha\\anaconda3\\lib\\site-packages (0.15.3)\n",
      "Requirement already satisfied: nltk>=3.1 in c:\\users\\anusha\\anaconda3\\lib\\site-packages (from textblob) (3.4)\n",
      "Requirement already satisfied: six in c:\\users\\anusha\\appdata\\roaming\\python\\python37\\site-packages (from nltk>=3.1->textblob) (1.14.0)\n",
      "Requirement already satisfied: singledispatch in c:\\users\\anusha\\anaconda3\\lib\\site-packages (from nltk>=3.1->textblob) (3.4.0.3)\n"
     ]
    }
   ],
   "source": [
    "!pip install yahoo_finance_api2\n",
    "!pip install yfinance\n",
    "!pip install textblob"
   ]
  },
  {
   "cell_type": "code",
   "execution_count": 2,
   "metadata": {},
   "outputs": [],
   "source": [
    "import yfinance as yf\n",
    "import numpy as np\n",
    "import pandas as pd\n",
    "import matplotlib.pyplot as plt\n",
    "import seaborn as sns\n",
    "from textblob import TextBlob\n",
    "from sklearn.preprocessing import MinMaxScaler\n",
    "from statsmodels.tsa.vector_ar.var_model import VAR\n",
    "from sklearn.metrics import mean_squared_error\n",
    "from sklearn.metrics import accuracy_score\n",
    "import scipy.stats as stats"
   ]
  },
  {
   "cell_type": "markdown",
   "metadata": {},
   "source": [
    "### Importing the Stock Dataset"
   ]
  },
  {
   "cell_type": "code",
   "execution_count": 3,
   "metadata": {},
   "outputs": [
    {
     "name": "stdout",
     "output_type": "stream",
     "text": [
      "[*********************100%***********************]  1 of 1 completed\n"
     ]
    }
   ],
   "source": [
    "stock='^BSESN'\n",
    "data = yf.download(stock, start=\"2014-10-09\", end=\"2020-10-09\")\n",
    "data.to_csv('stock.csv')"
   ]
  },
  {
   "cell_type": "code",
   "execution_count": 31,
   "metadata": {},
   "outputs": [
    {
     "data": {
      "text/html": [
       "<div>\n",
       "<style scoped>\n",
       "    .dataframe tbody tr th:only-of-type {\n",
       "        vertical-align: middle;\n",
       "    }\n",
       "\n",
       "    .dataframe tbody tr th {\n",
       "        vertical-align: top;\n",
       "    }\n",
       "\n",
       "    .dataframe thead th {\n",
       "        text-align: right;\n",
       "    }\n",
       "</style>\n",
       "<table border=\"1\" class=\"dataframe\">\n",
       "  <thead>\n",
       "    <tr style=\"text-align: right;\">\n",
       "      <th></th>\n",
       "      <th>Date</th>\n",
       "      <th>Open</th>\n",
       "      <th>High</th>\n",
       "      <th>Low</th>\n",
       "      <th>Close</th>\n",
       "      <th>Adj Close</th>\n",
       "      <th>Volume</th>\n",
       "    </tr>\n",
       "  </thead>\n",
       "  <tbody>\n",
       "    <tr>\n",
       "      <th>0</th>\n",
       "      <td>2014-10-09</td>\n",
       "      <td>26394.369141</td>\n",
       "      <td>26688.699219</td>\n",
       "      <td>26394.210938</td>\n",
       "      <td>26637.279297</td>\n",
       "      <td>26637.279297</td>\n",
       "      <td>7500</td>\n",
       "    </tr>\n",
       "    <tr>\n",
       "      <th>1</th>\n",
       "      <td>2014-10-10</td>\n",
       "      <td>26551.740234</td>\n",
       "      <td>26555.919922</td>\n",
       "      <td>26261.609375</td>\n",
       "      <td>26297.380859</td>\n",
       "      <td>26297.380859</td>\n",
       "      <td>9200</td>\n",
       "    </tr>\n",
       "    <tr>\n",
       "      <th>2</th>\n",
       "      <td>2014-10-13</td>\n",
       "      <td>26275.070312</td>\n",
       "      <td>26443.160156</td>\n",
       "      <td>26092.689453</td>\n",
       "      <td>26384.070312</td>\n",
       "      <td>26384.070312</td>\n",
       "      <td>6400</td>\n",
       "    </tr>\n",
       "    <tr>\n",
       "      <th>3</th>\n",
       "      <td>2014-10-14</td>\n",
       "      <td>26537.419922</td>\n",
       "      <td>26550.789062</td>\n",
       "      <td>26212.009766</td>\n",
       "      <td>26349.330078</td>\n",
       "      <td>26349.330078</td>\n",
       "      <td>11900</td>\n",
       "    </tr>\n",
       "    <tr>\n",
       "      <th>4</th>\n",
       "      <td>2014-10-16</td>\n",
       "      <td>26260.349609</td>\n",
       "      <td>26462.080078</td>\n",
       "      <td>25933.980469</td>\n",
       "      <td>25999.339844</td>\n",
       "      <td>25999.339844</td>\n",
       "      <td>10700</td>\n",
       "    </tr>\n",
       "  </tbody>\n",
       "</table>\n",
       "</div>"
      ],
      "text/plain": [
       "         Date          Open          High           Low         Close  \\\n",
       "0  2014-10-09  26394.369141  26688.699219  26394.210938  26637.279297   \n",
       "1  2014-10-10  26551.740234  26555.919922  26261.609375  26297.380859   \n",
       "2  2014-10-13  26275.070312  26443.160156  26092.689453  26384.070312   \n",
       "3  2014-10-14  26537.419922  26550.789062  26212.009766  26349.330078   \n",
       "4  2014-10-16  26260.349609  26462.080078  25933.980469  25999.339844   \n",
       "\n",
       "      Adj Close  Volume  \n",
       "0  26637.279297    7500  \n",
       "1  26297.380859    9200  \n",
       "2  26384.070312    6400  \n",
       "3  26349.330078   11900  \n",
       "4  25999.339844   10700  "
      ]
     },
     "execution_count": 31,
     "metadata": {},
     "output_type": "execute_result"
    }
   ],
   "source": [
    "stocks = pd.read_csv('stock.csv')\n",
    "stocks.head()"
   ]
  },
  {
   "cell_type": "code",
   "execution_count": 32,
   "metadata": {},
   "outputs": [
    {
     "name": "stdout",
     "output_type": "stream",
     "text": [
      "<class 'pandas.core.frame.DataFrame'>\n",
      "RangeIndex: 1469 entries, 0 to 1468\n",
      "Data columns (total 7 columns):\n",
      "Date         1469 non-null object\n",
      "Open         1469 non-null float64\n",
      "High         1469 non-null float64\n",
      "Low          1469 non-null float64\n",
      "Close        1469 non-null float64\n",
      "Adj Close    1469 non-null float64\n",
      "Volume       1469 non-null int64\n",
      "dtypes: float64(5), int64(1), object(1)\n",
      "memory usage: 80.4+ KB\n"
     ]
    }
   ],
   "source": [
    "stocks.info()"
   ]
  },
  {
   "cell_type": "code",
   "execution_count": 33,
   "metadata": {},
   "outputs": [
    {
     "data": {
      "text/html": [
       "<div>\n",
       "<style scoped>\n",
       "    .dataframe tbody tr th:only-of-type {\n",
       "        vertical-align: middle;\n",
       "    }\n",
       "\n",
       "    .dataframe tbody tr th {\n",
       "        vertical-align: top;\n",
       "    }\n",
       "\n",
       "    .dataframe thead th {\n",
       "        text-align: right;\n",
       "    }\n",
       "</style>\n",
       "<table border=\"1\" class=\"dataframe\">\n",
       "  <thead>\n",
       "    <tr style=\"text-align: right;\">\n",
       "      <th></th>\n",
       "      <th>Open</th>\n",
       "      <th>High</th>\n",
       "      <th>Low</th>\n",
       "      <th>Close</th>\n",
       "      <th>Adj Close</th>\n",
       "      <th>Volume</th>\n",
       "    </tr>\n",
       "  </thead>\n",
       "  <tbody>\n",
       "    <tr>\n",
       "      <th>count</th>\n",
       "      <td>1469.000000</td>\n",
       "      <td>1469.000000</td>\n",
       "      <td>1469.000000</td>\n",
       "      <td>1469.000000</td>\n",
       "      <td>1469.000000</td>\n",
       "      <td>1.469000e+03</td>\n",
       "    </tr>\n",
       "    <tr>\n",
       "      <th>mean</th>\n",
       "      <td>32168.413947</td>\n",
       "      <td>32318.589011</td>\n",
       "      <td>31942.597602</td>\n",
       "      <td>32121.314179</td>\n",
       "      <td>32121.314179</td>\n",
       "      <td>2.306365e+05</td>\n",
       "    </tr>\n",
       "    <tr>\n",
       "      <th>std</th>\n",
       "      <td>4997.984204</td>\n",
       "      <td>5007.445278</td>\n",
       "      <td>4970.163895</td>\n",
       "      <td>4986.243526</td>\n",
       "      <td>4986.243526</td>\n",
       "      <td>1.944855e+06</td>\n",
       "    </tr>\n",
       "    <tr>\n",
       "      <th>min</th>\n",
       "      <td>23060.390625</td>\n",
       "      <td>23142.960938</td>\n",
       "      <td>22494.609375</td>\n",
       "      <td>22951.830078</td>\n",
       "      <td>22951.830078</td>\n",
       "      <td>2.500000e+03</td>\n",
       "    </tr>\n",
       "    <tr>\n",
       "      <th>25%</th>\n",
       "      <td>27760.109375</td>\n",
       "      <td>27911.439453</td>\n",
       "      <td>27598.210938</td>\n",
       "      <td>27730.210938</td>\n",
       "      <td>27730.210938</td>\n",
       "      <td>1.000000e+04</td>\n",
       "    </tr>\n",
       "    <tr>\n",
       "      <th>50%</th>\n",
       "      <td>31775.539062</td>\n",
       "      <td>31937.509766</td>\n",
       "      <td>31598.000000</td>\n",
       "      <td>31715.640625</td>\n",
       "      <td>31715.640625</td>\n",
       "      <td>1.280000e+04</td>\n",
       "    </tr>\n",
       "    <tr>\n",
       "      <th>75%</th>\n",
       "      <td>36449.269531</td>\n",
       "      <td>36616.640625</td>\n",
       "      <td>36216.949219</td>\n",
       "      <td>36395.031250</td>\n",
       "      <td>36395.031250</td>\n",
       "      <td>1.820000e+04</td>\n",
       "    </tr>\n",
       "    <tr>\n",
       "      <th>max</th>\n",
       "      <td>42263.000000</td>\n",
       "      <td>42273.871094</td>\n",
       "      <td>41850.289062</td>\n",
       "      <td>41952.628906</td>\n",
       "      <td>41952.628906</td>\n",
       "      <td>3.181510e+07</td>\n",
       "    </tr>\n",
       "  </tbody>\n",
       "</table>\n",
       "</div>"
      ],
      "text/plain": [
       "               Open          High           Low         Close     Adj Close  \\\n",
       "count   1469.000000   1469.000000   1469.000000   1469.000000   1469.000000   \n",
       "mean   32168.413947  32318.589011  31942.597602  32121.314179  32121.314179   \n",
       "std     4997.984204   5007.445278   4970.163895   4986.243526   4986.243526   \n",
       "min    23060.390625  23142.960938  22494.609375  22951.830078  22951.830078   \n",
       "25%    27760.109375  27911.439453  27598.210938  27730.210938  27730.210938   \n",
       "50%    31775.539062  31937.509766  31598.000000  31715.640625  31715.640625   \n",
       "75%    36449.269531  36616.640625  36216.949219  36395.031250  36395.031250   \n",
       "max    42263.000000  42273.871094  41850.289062  41952.628906  41952.628906   \n",
       "\n",
       "             Volume  \n",
       "count  1.469000e+03  \n",
       "mean   2.306365e+05  \n",
       "std    1.944855e+06  \n",
       "min    2.500000e+03  \n",
       "25%    1.000000e+04  \n",
       "50%    1.280000e+04  \n",
       "75%    1.820000e+04  \n",
       "max    3.181510e+07  "
      ]
     },
     "execution_count": 33,
     "metadata": {},
     "output_type": "execute_result"
    }
   ],
   "source": [
    "stocks.describe()"
   ]
  },
  {
   "cell_type": "markdown",
   "metadata": {},
   "source": [
    "### Data Pre-processing and EDA of News Dataset"
   ]
  },
  {
   "cell_type": "code",
   "execution_count": 34,
   "metadata": {},
   "outputs": [
    {
     "data": {
      "text/html": [
       "<div>\n",
       "<style scoped>\n",
       "    .dataframe tbody tr th:only-of-type {\n",
       "        vertical-align: middle;\n",
       "    }\n",
       "\n",
       "    .dataframe tbody tr th {\n",
       "        vertical-align: top;\n",
       "    }\n",
       "\n",
       "    .dataframe thead th {\n",
       "        text-align: right;\n",
       "    }\n",
       "</style>\n",
       "<table border=\"1\" class=\"dataframe\">\n",
       "  <thead>\n",
       "    <tr style=\"text-align: right;\">\n",
       "      <th></th>\n",
       "      <th>Date</th>\n",
       "      <th>Adj Close</th>\n",
       "      <th>Volume</th>\n",
       "      <th>HL_pct</th>\n",
       "      <th>PCT_change</th>\n",
       "    </tr>\n",
       "  </thead>\n",
       "  <tbody>\n",
       "    <tr>\n",
       "      <th>0</th>\n",
       "      <td>2014-10-09</td>\n",
       "      <td>26637.279297</td>\n",
       "      <td>7500</td>\n",
       "      <td>1.115731</td>\n",
       "      <td>0.920311</td>\n",
       "    </tr>\n",
       "    <tr>\n",
       "      <th>1</th>\n",
       "      <td>2014-10-10</td>\n",
       "      <td>26297.380859</td>\n",
       "      <td>9200</td>\n",
       "      <td>1.120687</td>\n",
       "      <td>-0.957976</td>\n",
       "    </tr>\n",
       "    <tr>\n",
       "      <th>2</th>\n",
       "      <td>2014-10-13</td>\n",
       "      <td>26384.070312</td>\n",
       "      <td>6400</td>\n",
       "      <td>1.343176</td>\n",
       "      <td>0.414842</td>\n",
       "    </tr>\n",
       "    <tr>\n",
       "      <th>3</th>\n",
       "      <td>2014-10-14</td>\n",
       "      <td>26349.330078</td>\n",
       "      <td>11900</td>\n",
       "      <td>1.292458</td>\n",
       "      <td>-0.708772</td>\n",
       "    </tr>\n",
       "    <tr>\n",
       "      <th>4</th>\n",
       "      <td>2014-10-16</td>\n",
       "      <td>25999.339844</td>\n",
       "      <td>10700</td>\n",
       "      <td>2.036323</td>\n",
       "      <td>-0.993931</td>\n",
       "    </tr>\n",
       "  </tbody>\n",
       "</table>\n",
       "</div>"
      ],
      "text/plain": [
       "         Date     Adj Close  Volume    HL_pct  PCT_change\n",
       "0  2014-10-09  26637.279297    7500  1.115731    0.920311\n",
       "1  2014-10-10  26297.380859    9200  1.120687   -0.957976\n",
       "2  2014-10-13  26384.070312    6400  1.343176    0.414842\n",
       "3  2014-10-14  26349.330078   11900  1.292458   -0.708772\n",
       "4  2014-10-16  25999.339844   10700  2.036323   -0.993931"
      ]
     },
     "execution_count": 34,
     "metadata": {},
     "output_type": "execute_result"
    }
   ],
   "source": [
    "stocks['HL_pct']=((stocks['High']-stocks['Low'])/stocks['Low'])*100\n",
    "stocks['PCT_change']=((stocks['Close']-stocks['Open'])/stocks['Open'])*100\n",
    "stocks = stocks.drop(['Open','High','Close','Low'], axis=1)\n",
    "stocks.head()"
   ]
  },
  {
   "cell_type": "code",
   "execution_count": 63,
   "metadata": {},
   "outputs": [
    {
     "data": {
      "text/html": [
       "<div>\n",
       "<style scoped>\n",
       "    .dataframe tbody tr th:only-of-type {\n",
       "        vertical-align: middle;\n",
       "    }\n",
       "\n",
       "    .dataframe tbody tr th {\n",
       "        vertical-align: top;\n",
       "    }\n",
       "\n",
       "    .dataframe thead th {\n",
       "        text-align: right;\n",
       "    }\n",
       "</style>\n",
       "<table border=\"1\" class=\"dataframe\">\n",
       "  <thead>\n",
       "    <tr style=\"text-align: right;\">\n",
       "      <th></th>\n",
       "      <th>publish_date</th>\n",
       "      <th>headline_category</th>\n",
       "      <th>headline_text</th>\n",
       "    </tr>\n",
       "  </thead>\n",
       "  <tbody>\n",
       "    <tr>\n",
       "      <th>0</th>\n",
       "      <td>20010101</td>\n",
       "      <td>sports.wwe</td>\n",
       "      <td>win over cena satisfying but defeating underta...</td>\n",
       "    </tr>\n",
       "    <tr>\n",
       "      <th>1</th>\n",
       "      <td>20010102</td>\n",
       "      <td>unknown</td>\n",
       "      <td>Status quo will not be disturbed at Ayodhya; s...</td>\n",
       "    </tr>\n",
       "    <tr>\n",
       "      <th>2</th>\n",
       "      <td>20010102</td>\n",
       "      <td>unknown</td>\n",
       "      <td>Fissures in Hurriyat over Pak visit</td>\n",
       "    </tr>\n",
       "    <tr>\n",
       "      <th>3</th>\n",
       "      <td>20010102</td>\n",
       "      <td>unknown</td>\n",
       "      <td>America's unwanted heading for India?</td>\n",
       "    </tr>\n",
       "    <tr>\n",
       "      <th>4</th>\n",
       "      <td>20010102</td>\n",
       "      <td>unknown</td>\n",
       "      <td>For bigwigs; it is destination Goa</td>\n",
       "    </tr>\n",
       "  </tbody>\n",
       "</table>\n",
       "</div>"
      ],
      "text/plain": [
       "   publish_date headline_category  \\\n",
       "0      20010101        sports.wwe   \n",
       "1      20010102           unknown   \n",
       "2      20010102           unknown   \n",
       "3      20010102           unknown   \n",
       "4      20010102           unknown   \n",
       "\n",
       "                                       headline_text  \n",
       "0  win over cena satisfying but defeating underta...  \n",
       "1  Status quo will not be disturbed at Ayodhya; s...  \n",
       "2                Fissures in Hurriyat over Pak visit  \n",
       "3              America's unwanted heading for India?  \n",
       "4                 For bigwigs; it is destination Goa  "
      ]
     },
     "execution_count": 63,
     "metadata": {},
     "output_type": "execute_result"
    }
   ],
   "source": [
    "news= pd.read_csv(\"india-news-headlines.csv\",date)\n",
    "news.head()"
   ]
  },
  {
   "cell_type": "code",
   "execution_count": 36,
   "metadata": {},
   "outputs": [],
   "source": [
    "news['published_date'] = np.array([str(str(str(x)[:4]) + '/' + str(str(x)[4:6]) + '/' + str(str(x)[6:])) for x in news['publish_date']])"
   ]
  },
  {
   "cell_type": "code",
   "execution_count": 37,
   "metadata": {},
   "outputs": [
    {
     "data": {
      "text/html": [
       "<div>\n",
       "<style scoped>\n",
       "    .dataframe tbody tr th:only-of-type {\n",
       "        vertical-align: middle;\n",
       "    }\n",
       "\n",
       "    .dataframe tbody tr th {\n",
       "        vertical-align: top;\n",
       "    }\n",
       "\n",
       "    .dataframe thead th {\n",
       "        text-align: right;\n",
       "    }\n",
       "</style>\n",
       "<table border=\"1\" class=\"dataframe\">\n",
       "  <thead>\n",
       "    <tr style=\"text-align: right;\">\n",
       "      <th></th>\n",
       "      <th>publish_date</th>\n",
       "      <th>headline_category</th>\n",
       "      <th>headline_text</th>\n",
       "      <th>published_date</th>\n",
       "    </tr>\n",
       "  </thead>\n",
       "  <tbody>\n",
       "    <tr>\n",
       "      <th>0</th>\n",
       "      <td>20010101</td>\n",
       "      <td>sports.wwe</td>\n",
       "      <td>win over cena satisfying but defeating underta...</td>\n",
       "      <td>2001/01/01</td>\n",
       "    </tr>\n",
       "    <tr>\n",
       "      <th>1</th>\n",
       "      <td>20010102</td>\n",
       "      <td>unknown</td>\n",
       "      <td>Status quo will not be disturbed at Ayodhya; s...</td>\n",
       "      <td>2001/01/02</td>\n",
       "    </tr>\n",
       "    <tr>\n",
       "      <th>2</th>\n",
       "      <td>20010102</td>\n",
       "      <td>unknown</td>\n",
       "      <td>Fissures in Hurriyat over Pak visit</td>\n",
       "      <td>2001/01/02</td>\n",
       "    </tr>\n",
       "    <tr>\n",
       "      <th>3</th>\n",
       "      <td>20010102</td>\n",
       "      <td>unknown</td>\n",
       "      <td>America's unwanted heading for India?</td>\n",
       "      <td>2001/01/02</td>\n",
       "    </tr>\n",
       "    <tr>\n",
       "      <th>4</th>\n",
       "      <td>20010102</td>\n",
       "      <td>unknown</td>\n",
       "      <td>For bigwigs; it is destination Goa</td>\n",
       "      <td>2001/01/02</td>\n",
       "    </tr>\n",
       "  </tbody>\n",
       "</table>\n",
       "</div>"
      ],
      "text/plain": [
       "   publish_date headline_category  \\\n",
       "0      20010101        sports.wwe   \n",
       "1      20010102           unknown   \n",
       "2      20010102           unknown   \n",
       "3      20010102           unknown   \n",
       "4      20010102           unknown   \n",
       "\n",
       "                                       headline_text published_date  \n",
       "0  win over cena satisfying but defeating underta...     2001/01/01  \n",
       "1  Status quo will not be disturbed at Ayodhya; s...     2001/01/02  \n",
       "2                Fissures in Hurriyat over Pak visit     2001/01/02  \n",
       "3              America's unwanted heading for India?     2001/01/02  \n",
       "4                 For bigwigs; it is destination Goa     2001/01/02  "
      ]
     },
     "execution_count": 37,
     "metadata": {},
     "output_type": "execute_result"
    }
   ],
   "source": [
    "news.head()"
   ]
  },
  {
   "cell_type": "code",
   "execution_count": 38,
   "metadata": {},
   "outputs": [
    {
     "data": {
      "text/html": [
       "<div>\n",
       "<style scoped>\n",
       "    .dataframe tbody tr th:only-of-type {\n",
       "        vertical-align: middle;\n",
       "    }\n",
       "\n",
       "    .dataframe tbody tr th {\n",
       "        vertical-align: top;\n",
       "    }\n",
       "\n",
       "    .dataframe thead th {\n",
       "        text-align: right;\n",
       "    }\n",
       "</style>\n",
       "<table border=\"1\" class=\"dataframe\">\n",
       "  <thead>\n",
       "    <tr style=\"text-align: right;\">\n",
       "      <th></th>\n",
       "      <th>headline_category</th>\n",
       "      <th>headline_text</th>\n",
       "      <th>published_date</th>\n",
       "    </tr>\n",
       "  </thead>\n",
       "  <tbody>\n",
       "    <tr>\n",
       "      <th>0</th>\n",
       "      <td>sports.wwe</td>\n",
       "      <td>win over cena satisfying but defeating underta...</td>\n",
       "      <td>2001/01/01</td>\n",
       "    </tr>\n",
       "    <tr>\n",
       "      <th>1</th>\n",
       "      <td>unknown</td>\n",
       "      <td>Status quo will not be disturbed at Ayodhya; s...</td>\n",
       "      <td>2001/01/02</td>\n",
       "    </tr>\n",
       "    <tr>\n",
       "      <th>2</th>\n",
       "      <td>unknown</td>\n",
       "      <td>Fissures in Hurriyat over Pak visit</td>\n",
       "      <td>2001/01/02</td>\n",
       "    </tr>\n",
       "    <tr>\n",
       "      <th>3</th>\n",
       "      <td>unknown</td>\n",
       "      <td>America's unwanted heading for India?</td>\n",
       "      <td>2001/01/02</td>\n",
       "    </tr>\n",
       "    <tr>\n",
       "      <th>4</th>\n",
       "      <td>unknown</td>\n",
       "      <td>For bigwigs; it is destination Goa</td>\n",
       "      <td>2001/01/02</td>\n",
       "    </tr>\n",
       "  </tbody>\n",
       "</table>\n",
       "</div>"
      ],
      "text/plain": [
       "  headline_category                                      headline_text  \\\n",
       "0        sports.wwe  win over cena satisfying but defeating underta...   \n",
       "1           unknown  Status quo will not be disturbed at Ayodhya; s...   \n",
       "2           unknown                Fissures in Hurriyat over Pak visit   \n",
       "3           unknown              America's unwanted heading for India?   \n",
       "4           unknown                 For bigwigs; it is destination Goa   \n",
       "\n",
       "  published_date  \n",
       "0     2001/01/01  \n",
       "1     2001/01/02  \n",
       "2     2001/01/02  \n",
       "3     2001/01/02  \n",
       "4     2001/01/02  "
      ]
     },
     "execution_count": 38,
     "metadata": {},
     "output_type": "execute_result"
    }
   ],
   "source": [
    "news = news.drop('publish_date', axis=1)\n",
    "news.head()\n"
   ]
  },
  {
   "cell_type": "code",
   "execution_count": 39,
   "metadata": {},
   "outputs": [
    {
     "name": "stdout",
     "output_type": "stream",
     "text": [
      "<class 'pandas.core.frame.DataFrame'>\n",
      "RangeIndex: 3297172 entries, 0 to 3297171\n",
      "Data columns (total 3 columns):\n",
      "headline_category    object\n",
      "headline_text        object\n",
      "published_date       datetime64[ns]\n",
      "dtypes: datetime64[ns](1), object(2)\n",
      "memory usage: 75.5+ MB\n"
     ]
    }
   ],
   "source": [
    "news['published_date'] = pd.to_datetime(news['published_date'])\n",
    "news.info()"
   ]
  },
  {
   "cell_type": "code",
   "execution_count": 40,
   "metadata": {},
   "outputs": [
    {
     "data": {
      "text/html": [
       "<div>\n",
       "<style scoped>\n",
       "    .dataframe tbody tr th:only-of-type {\n",
       "        vertical-align: middle;\n",
       "    }\n",
       "\n",
       "    .dataframe tbody tr th {\n",
       "        vertical-align: top;\n",
       "    }\n",
       "\n",
       "    .dataframe thead th {\n",
       "        text-align: right;\n",
       "    }\n",
       "</style>\n",
       "<table border=\"1\" class=\"dataframe\">\n",
       "  <thead>\n",
       "    <tr style=\"text-align: right;\">\n",
       "      <th></th>\n",
       "      <th>published_date</th>\n",
       "      <th>headline</th>\n",
       "    </tr>\n",
       "  </thead>\n",
       "  <tbody>\n",
       "    <tr>\n",
       "      <th>0</th>\n",
       "      <td>2001-01-01</td>\n",
       "      <td>win over cena satisfying but defeating underta...</td>\n",
       "    </tr>\n",
       "    <tr>\n",
       "      <th>1</th>\n",
       "      <td>2001-01-02</td>\n",
       "      <td>Status quo will not be disturbed at Ayodhya; s...</td>\n",
       "    </tr>\n",
       "    <tr>\n",
       "      <th>2</th>\n",
       "      <td>2001-01-02</td>\n",
       "      <td>Fissures in Hurriyat over Pak visit</td>\n",
       "    </tr>\n",
       "    <tr>\n",
       "      <th>3</th>\n",
       "      <td>2001-01-02</td>\n",
       "      <td>America's unwanted heading for India?</td>\n",
       "    </tr>\n",
       "    <tr>\n",
       "      <th>4</th>\n",
       "      <td>2001-01-02</td>\n",
       "      <td>For bigwigs; it is destination Goa</td>\n",
       "    </tr>\n",
       "  </tbody>\n",
       "</table>\n",
       "</div>"
      ],
      "text/plain": [
       "  published_date                                           headline\n",
       "0     2001-01-01  win over cena satisfying but defeating underta...\n",
       "1     2001-01-02  Status quo will not be disturbed at Ayodhya; s...\n",
       "2     2001-01-02                Fissures in Hurriyat over Pak visit\n",
       "3     2001-01-02              America's unwanted heading for India?\n",
       "4     2001-01-02                 For bigwigs; it is destination Goa"
      ]
     },
     "execution_count": 40,
     "metadata": {},
     "output_type": "execute_result"
    }
   ],
   "source": [
    "news = news[['published_date', 'headline_text']]\n",
    "news.columns = ['published_date', 'headline']\n",
    "news.head()"
   ]
  },
  {
   "cell_type": "markdown",
   "metadata": {},
   "source": [
    "### Accumulating headlines having same dates"
   ]
  },
  {
   "cell_type": "code",
   "execution_count": 41,
   "metadata": {},
   "outputs": [],
   "source": [
    "dict_news = {}\n",
    "temp = news.loc[0, 'published_date']\n",
    "temp2 = str(news.loc[0, 'headline'])\n",
    "for x in range(1, len(news)):\n",
    "    if news.loc[x, 'published_date']==temp:\n",
    "        temp2 += '. ' + str(news.loc[x, 'headline'])\n",
    "    else:\n",
    "        dict_news[news.loc[x-1, 'published_date']] = temp2\n",
    "        temp2 = \"\"\n",
    "        temp = news.loc[x, 'published_date']"
   ]
  },
  {
   "cell_type": "code",
   "execution_count": 43,
   "metadata": {},
   "outputs": [
    {
     "data": {
      "text/plain": [
       "7079"
      ]
     },
     "execution_count": 43,
     "metadata": {},
     "output_type": "execute_result"
    }
   ],
   "source": [
    "len(dict_news)"
   ]
  },
  {
   "cell_type": "code",
   "execution_count": 44,
   "metadata": {},
   "outputs": [
    {
     "data": {
      "text/html": [
       "<div>\n",
       "<style scoped>\n",
       "    .dataframe tbody tr th:only-of-type {\n",
       "        vertical-align: middle;\n",
       "    }\n",
       "\n",
       "    .dataframe tbody tr th {\n",
       "        vertical-align: top;\n",
       "    }\n",
       "\n",
       "    .dataframe thead th {\n",
       "        text-align: right;\n",
       "    }\n",
       "</style>\n",
       "<table border=\"1\" class=\"dataframe\">\n",
       "  <thead>\n",
       "    <tr style=\"text-align: right;\">\n",
       "      <th></th>\n",
       "      <th>0</th>\n",
       "    </tr>\n",
       "  </thead>\n",
       "  <tbody>\n",
       "    <tr>\n",
       "      <th>0</th>\n",
       "      <td>0</td>\n",
       "    </tr>\n",
       "    <tr>\n",
       "      <th>1</th>\n",
       "      <td>1</td>\n",
       "    </tr>\n",
       "    <tr>\n",
       "      <th>2</th>\n",
       "      <td>2</td>\n",
       "    </tr>\n",
       "    <tr>\n",
       "      <th>3</th>\n",
       "      <td>3</td>\n",
       "    </tr>\n",
       "    <tr>\n",
       "      <th>4</th>\n",
       "      <td>4</td>\n",
       "    </tr>\n",
       "  </tbody>\n",
       "</table>\n",
       "</div>"
      ],
      "text/plain": [
       "   0\n",
       "0  0\n",
       "1  1\n",
       "2  2\n",
       "3  3\n",
       "4  4"
      ]
     },
     "execution_count": 44,
     "metadata": {},
     "output_type": "execute_result"
    }
   ],
   "source": [
    "indexes = np.arange(0, len(dict_news))\n",
    "df_news = pd.DataFrame(indexes)\n",
    "df_news.head()"
   ]
  },
  {
   "cell_type": "code",
   "execution_count": 45,
   "metadata": {},
   "outputs": [
    {
     "data": {
      "text/html": [
       "<div>\n",
       "<style scoped>\n",
       "    .dataframe tbody tr th:only-of-type {\n",
       "        vertical-align: middle;\n",
       "    }\n",
       "\n",
       "    .dataframe tbody tr th {\n",
       "        vertical-align: top;\n",
       "    }\n",
       "\n",
       "    .dataframe thead th {\n",
       "        text-align: right;\n",
       "    }\n",
       "</style>\n",
       "<table border=\"1\" class=\"dataframe\">\n",
       "  <thead>\n",
       "    <tr style=\"text-align: right;\">\n",
       "      <th></th>\n",
       "      <th>0</th>\n",
       "      <th>Published_Date</th>\n",
       "    </tr>\n",
       "  </thead>\n",
       "  <tbody>\n",
       "    <tr>\n",
       "      <th>0</th>\n",
       "      <td>0</td>\n",
       "      <td>2001-01-01</td>\n",
       "    </tr>\n",
       "    <tr>\n",
       "      <th>1</th>\n",
       "      <td>1</td>\n",
       "      <td>2001-01-02</td>\n",
       "    </tr>\n",
       "    <tr>\n",
       "      <th>2</th>\n",
       "      <td>2</td>\n",
       "      <td>2001-01-03</td>\n",
       "    </tr>\n",
       "    <tr>\n",
       "      <th>3</th>\n",
       "      <td>3</td>\n",
       "      <td>2001-01-04</td>\n",
       "    </tr>\n",
       "    <tr>\n",
       "      <th>4</th>\n",
       "      <td>4</td>\n",
       "      <td>2001-01-05</td>\n",
       "    </tr>\n",
       "  </tbody>\n",
       "</table>\n",
       "</div>"
      ],
      "text/plain": [
       "   0 Published_Date\n",
       "0  0     2001-01-01\n",
       "1  1     2001-01-02\n",
       "2  2     2001-01-03\n",
       "3  3     2001-01-04\n",
       "4  4     2001-01-05"
      ]
     },
     "execution_count": 45,
     "metadata": {},
     "output_type": "execute_result"
    }
   ],
   "source": [
    "df_news['Published_Date'] = dict_news.keys()\n",
    "df_news.head()"
   ]
  },
  {
   "cell_type": "code",
   "execution_count": 46,
   "metadata": {},
   "outputs": [
    {
     "data": {
      "text/plain": [
       "'win over cena satisfying but defeating undertaker bigger roman reigns'"
      ]
     },
     "execution_count": 46,
     "metadata": {},
     "output_type": "execute_result"
    }
   ],
   "source": [
    "li = []\n",
    "for i in dict_news.keys():\n",
    "    li.append(dict_news[i])\n",
    "    \n",
    "li[0]"
   ]
  },
  {
   "cell_type": "code",
   "execution_count": 47,
   "metadata": {},
   "outputs": [
    {
     "data": {
      "text/html": [
       "<div>\n",
       "<style scoped>\n",
       "    .dataframe tbody tr th:only-of-type {\n",
       "        vertical-align: middle;\n",
       "    }\n",
       "\n",
       "    .dataframe tbody tr th {\n",
       "        vertical-align: top;\n",
       "    }\n",
       "\n",
       "    .dataframe thead th {\n",
       "        text-align: right;\n",
       "    }\n",
       "</style>\n",
       "<table border=\"1\" class=\"dataframe\">\n",
       "  <thead>\n",
       "    <tr style=\"text-align: right;\">\n",
       "      <th></th>\n",
       "      <th>0</th>\n",
       "      <th>Published_Date</th>\n",
       "      <th>Headline</th>\n",
       "    </tr>\n",
       "  </thead>\n",
       "  <tbody>\n",
       "    <tr>\n",
       "      <th>0</th>\n",
       "      <td>0</td>\n",
       "      <td>2001-01-01</td>\n",
       "      <td>win over cena satisfying but defeating underta...</td>\n",
       "    </tr>\n",
       "    <tr>\n",
       "      <th>1</th>\n",
       "      <td>1</td>\n",
       "      <td>2001-01-02</td>\n",
       "      <td>. Fissures in Hurriyat over Pak visit. America...</td>\n",
       "    </tr>\n",
       "    <tr>\n",
       "      <th>2</th>\n",
       "      <td>2</td>\n",
       "      <td>2001-01-03</td>\n",
       "      <td>. Think again; Laxman tells Sangh Parivar. Hur...</td>\n",
       "    </tr>\n",
       "    <tr>\n",
       "      <th>3</th>\n",
       "      <td>3</td>\n",
       "      <td>2001-01-04</td>\n",
       "      <td>. Vajpayee gives big push to tech education; R...</td>\n",
       "    </tr>\n",
       "    <tr>\n",
       "      <th>4</th>\n",
       "      <td>4</td>\n",
       "      <td>2001-01-05</td>\n",
       "      <td>. Hawkings' day out. Light combat craft takes ...</td>\n",
       "    </tr>\n",
       "  </tbody>\n",
       "</table>\n",
       "</div>"
      ],
      "text/plain": [
       "   0 Published_Date                                           Headline\n",
       "0  0     2001-01-01  win over cena satisfying but defeating underta...\n",
       "1  1     2001-01-02  . Fissures in Hurriyat over Pak visit. America...\n",
       "2  2     2001-01-03  . Think again; Laxman tells Sangh Parivar. Hur...\n",
       "3  3     2001-01-04  . Vajpayee gives big push to tech education; R...\n",
       "4  4     2001-01-05  . Hawkings' day out. Light combat craft takes ..."
      ]
     },
     "execution_count": 47,
     "metadata": {},
     "output_type": "execute_result"
    }
   ],
   "source": [
    "df_news['Headline'] = np.array(li)\n",
    "df_news.head()"
   ]
  },
  {
   "cell_type": "code",
   "execution_count": 48,
   "metadata": {},
   "outputs": [],
   "source": [
    "df_news = df_news.drop(0, axis=1)"
   ]
  },
  {
   "cell_type": "markdown",
   "metadata": {},
   "source": [
    "### Performing Sentiment Analysis on News Dataset"
   ]
  },
  {
   "cell_type": "code",
   "execution_count": 49,
   "metadata": {},
   "outputs": [],
   "source": [
    "polarity = []\n",
    "subjectivity = []\n",
    "tuples = []\n",
    "\n",
    "for i in df_news['Headline'].values:\n",
    "    my_valence = TextBlob(i)\n",
    "    tuples.append(my_valence.sentiment)\n",
    "    \n",
    "for i in tuples:\n",
    "    polarity.append(i[0])\n",
    "    subjectivity.append(i[1])"
   ]
  },
  {
   "cell_type": "code",
   "execution_count": 50,
   "metadata": {},
   "outputs": [
    {
     "data": {
      "text/html": [
       "<div>\n",
       "<style scoped>\n",
       "    .dataframe tbody tr th:only-of-type {\n",
       "        vertical-align: middle;\n",
       "    }\n",
       "\n",
       "    .dataframe tbody tr th {\n",
       "        vertical-align: top;\n",
       "    }\n",
       "\n",
       "    .dataframe thead th {\n",
       "        text-align: right;\n",
       "    }\n",
       "</style>\n",
       "<table border=\"1\" class=\"dataframe\">\n",
       "  <thead>\n",
       "    <tr style=\"text-align: right;\">\n",
       "      <th></th>\n",
       "      <th>Published_Date</th>\n",
       "      <th>Headline</th>\n",
       "      <th>Polarity</th>\n",
       "      <th>Subjectivity</th>\n",
       "    </tr>\n",
       "  </thead>\n",
       "  <tbody>\n",
       "    <tr>\n",
       "      <th>0</th>\n",
       "      <td>2001-01-01</td>\n",
       "      <td>win over cena satisfying but defeating underta...</td>\n",
       "      <td>0.433333</td>\n",
       "      <td>0.633333</td>\n",
       "    </tr>\n",
       "    <tr>\n",
       "      <th>1</th>\n",
       "      <td>2001-01-02</td>\n",
       "      <td>. Fissures in Hurriyat over Pak visit. America...</td>\n",
       "      <td>0.151333</td>\n",
       "      <td>0.282333</td>\n",
       "    </tr>\n",
       "    <tr>\n",
       "      <th>2</th>\n",
       "      <td>2001-01-03</td>\n",
       "      <td>. Think again; Laxman tells Sangh Parivar. Hur...</td>\n",
       "      <td>0.163636</td>\n",
       "      <td>0.363636</td>\n",
       "    </tr>\n",
       "    <tr>\n",
       "      <th>3</th>\n",
       "      <td>2001-01-04</td>\n",
       "      <td>. Vajpayee gives big push to tech education; R...</td>\n",
       "      <td>0.087961</td>\n",
       "      <td>0.446847</td>\n",
       "    </tr>\n",
       "    <tr>\n",
       "      <th>4</th>\n",
       "      <td>2001-01-05</td>\n",
       "      <td>. Hawkings' day out. Light combat craft takes ...</td>\n",
       "      <td>0.260401</td>\n",
       "      <td>0.473984</td>\n",
       "    </tr>\n",
       "  </tbody>\n",
       "</table>\n",
       "</div>"
      ],
      "text/plain": [
       "  Published_Date                                           Headline  Polarity  \\\n",
       "0     2001-01-01  win over cena satisfying but defeating underta...  0.433333   \n",
       "1     2001-01-02  . Fissures in Hurriyat over Pak visit. America...  0.151333   \n",
       "2     2001-01-03  . Think again; Laxman tells Sangh Parivar. Hur...  0.163636   \n",
       "3     2001-01-04  . Vajpayee gives big push to tech education; R...  0.087961   \n",
       "4     2001-01-05  . Hawkings' day out. Light combat craft takes ...  0.260401   \n",
       "\n",
       "   Subjectivity  \n",
       "0      0.633333  \n",
       "1      0.282333  \n",
       "2      0.363636  \n",
       "3      0.446847  \n",
       "4      0.473984  "
      ]
     },
     "execution_count": 50,
     "metadata": {},
     "output_type": "execute_result"
    }
   ],
   "source": [
    "df_news['Polarity'] = np.array(polarity)\n",
    "df_news['Subjectivity'] = np.array(subjectivity)\n",
    "\n",
    "df_news.head()"
   ]
  },
  {
   "cell_type": "code",
   "execution_count": 51,
   "metadata": {},
   "outputs": [],
   "source": [
    "temp = ['Positive', 'Negative', 'Neutral']\n",
    "temp1 = ['Factual', 'Public']\n",
    "polarity = []\n",
    "subjectivity = []\n",
    "for i in range(len(df_news)):\n",
    "    pol = df_news.iloc[i]['Polarity']\n",
    "    sub = df_news.iloc[i]['Subjectivity']\n",
    "    if pol>=0:\n",
    "        if pol>=0.2:\n",
    "            polarity.append(temp[0])\n",
    "        else:\n",
    "            polarity.append(temp[2])\n",
    "    else:\n",
    "        if pol<=-0.2:\n",
    "            polarity.append(temp[1])\n",
    "        else:\n",
    "            polarity.append(temp[2])\n",
    "    \n",
    "    if sub>=0.4:\n",
    "        subjectivity.append(temp1[1])\n",
    "    else:\n",
    "        subjectivity.append(temp1[0])\n",
    "\n",
    "df_news['Sentiment'] = polarity\n",
    "df_news['Opinion'] = subjectivity"
   ]
  },
  {
   "cell_type": "code",
   "execution_count": 52,
   "metadata": {},
   "outputs": [
    {
     "data": {
      "text/html": [
       "<div>\n",
       "<style scoped>\n",
       "    .dataframe tbody tr th:only-of-type {\n",
       "        vertical-align: middle;\n",
       "    }\n",
       "\n",
       "    .dataframe tbody tr th {\n",
       "        vertical-align: top;\n",
       "    }\n",
       "\n",
       "    .dataframe thead th {\n",
       "        text-align: right;\n",
       "    }\n",
       "</style>\n",
       "<table border=\"1\" class=\"dataframe\">\n",
       "  <thead>\n",
       "    <tr style=\"text-align: right;\">\n",
       "      <th></th>\n",
       "      <th>Published_Date</th>\n",
       "      <th>Headline</th>\n",
       "      <th>Polarity</th>\n",
       "      <th>Subjectivity</th>\n",
       "      <th>Sentiment</th>\n",
       "      <th>Opinion</th>\n",
       "    </tr>\n",
       "  </thead>\n",
       "  <tbody>\n",
       "    <tr>\n",
       "      <th>0</th>\n",
       "      <td>2001-01-01</td>\n",
       "      <td>win over cena satisfying but defeating underta...</td>\n",
       "      <td>0.433333</td>\n",
       "      <td>0.633333</td>\n",
       "      <td>Positive</td>\n",
       "      <td>Public</td>\n",
       "    </tr>\n",
       "    <tr>\n",
       "      <th>1</th>\n",
       "      <td>2001-01-02</td>\n",
       "      <td>. Fissures in Hurriyat over Pak visit. America...</td>\n",
       "      <td>0.151333</td>\n",
       "      <td>0.282333</td>\n",
       "      <td>Neutral</td>\n",
       "      <td>Factual</td>\n",
       "    </tr>\n",
       "    <tr>\n",
       "      <th>2</th>\n",
       "      <td>2001-01-03</td>\n",
       "      <td>. Think again; Laxman tells Sangh Parivar. Hur...</td>\n",
       "      <td>0.163636</td>\n",
       "      <td>0.363636</td>\n",
       "      <td>Neutral</td>\n",
       "      <td>Factual</td>\n",
       "    </tr>\n",
       "    <tr>\n",
       "      <th>3</th>\n",
       "      <td>2001-01-04</td>\n",
       "      <td>. Vajpayee gives big push to tech education; R...</td>\n",
       "      <td>0.087961</td>\n",
       "      <td>0.446847</td>\n",
       "      <td>Neutral</td>\n",
       "      <td>Public</td>\n",
       "    </tr>\n",
       "    <tr>\n",
       "      <th>4</th>\n",
       "      <td>2001-01-05</td>\n",
       "      <td>. Hawkings' day out. Light combat craft takes ...</td>\n",
       "      <td>0.260401</td>\n",
       "      <td>0.473984</td>\n",
       "      <td>Positive</td>\n",
       "      <td>Public</td>\n",
       "    </tr>\n",
       "  </tbody>\n",
       "</table>\n",
       "</div>"
      ],
      "text/plain": [
       "  Published_Date                                           Headline  Polarity  \\\n",
       "0     2001-01-01  win over cena satisfying but defeating underta...  0.433333   \n",
       "1     2001-01-02  . Fissures in Hurriyat over Pak visit. America...  0.151333   \n",
       "2     2001-01-03  . Think again; Laxman tells Sangh Parivar. Hur...  0.163636   \n",
       "3     2001-01-04  . Vajpayee gives big push to tech education; R...  0.087961   \n",
       "4     2001-01-05  . Hawkings' day out. Light combat craft takes ...  0.260401   \n",
       "\n",
       "   Subjectivity Sentiment  Opinion  \n",
       "0      0.633333  Positive   Public  \n",
       "1      0.282333   Neutral  Factual  \n",
       "2      0.363636   Neutral  Factual  \n",
       "3      0.446847   Neutral   Public  \n",
       "4      0.473984  Positive   Public  "
      ]
     },
     "execution_count": 52,
     "metadata": {},
     "output_type": "execute_result"
    }
   ],
   "source": [
    "df_news.head()"
   ]
  },
  {
   "cell_type": "code",
   "execution_count": 53,
   "metadata": {},
   "outputs": [
    {
     "data": {
      "text/plain": [
       "7079"
      ]
     },
     "execution_count": 53,
     "metadata": {},
     "output_type": "execute_result"
    }
   ],
   "source": [
    "len(df_news)"
   ]
  },
  {
   "cell_type": "markdown",
   "metadata": {},
   "source": [
    "### Distribution of Sentiments and Opinions"
   ]
  },
  {
   "cell_type": "code",
   "execution_count": 54,
   "metadata": {},
   "outputs": [
    {
     "data": {
      "image/png": "[encoded data removed]",
      "text/plain": [
       "<Figure size 432x288 with 1 Axes>"
      ]
     },
     "metadata": {
      "needs_background": "light"
     },
     "output_type": "display_data"
    }
   ],
   "source": [
    "df_news['Subjectivity'].hist()\n",
    "plt.show()"
   ]
  },
  {
   "cell_type": "code",
   "execution_count": 55,
   "metadata": {},
   "outputs": [
    {
     "data": {
      "image/png": "[encoded data removed]",
      "text/plain": [
       "<Figure size 432x288 with 1 Axes>"
      ]
     },
     "metadata": {
      "needs_background": "light"
     },
     "output_type": "display_data"
    }
   ],
   "source": [
    "df_news['Polarity'].hist()\n",
    "plt.show()"
   ]
  },
  {
   "cell_type": "code",
   "execution_count": 56,
   "metadata": {},
   "outputs": [
    {
     "data": {
      "text/plain": [
       "<matplotlib.axes._subplots.AxesSubplot at 0x185a810c630>"
      ]
     },
     "execution_count": 56,
     "metadata": {},
     "output_type": "execute_result"
    },
    {
     "data": {
      "image/png": "[encoded data removed]",
      "text/plain": [
       "<Figure size 432x288 with 1 Axes>"
      ]
     },
     "metadata": {
      "needs_background": "light"
     },
     "output_type": "display_data"
    }
   ],
   "source": [
    "sns.countplot(df_news['Opinion'])"
   ]
  },
  {
   "cell_type": "code",
   "execution_count": 57,
   "metadata": {},
   "outputs": [],
   "source": [
    "df_news.columns = ['Date', 'Headline', 'Polarity', 'Subjectivity', 'Sentiment', 'Opinion']"
   ]
  },
  {
   "cell_type": "markdown",
   "metadata": {},
   "source": [
    "### Merging the News and Stocks Datasets on the basis of Dates"
   ]
  },
  {
   "cell_type": "code",
   "execution_count": 70,
   "metadata": {},
   "outputs": [
    {
     "data": {
      "text/html": [
       "<div>\n",
       "<style scoped>\n",
       "    .dataframe tbody tr th:only-of-type {\n",
       "        vertical-align: middle;\n",
       "    }\n",
       "\n",
       "    .dataframe tbody tr th {\n",
       "        vertical-align: top;\n",
       "    }\n",
       "\n",
       "    .dataframe thead th {\n",
       "        text-align: right;\n",
       "    }\n",
       "</style>\n",
       "<table border=\"1\" class=\"dataframe\">\n",
       "  <thead>\n",
       "    <tr style=\"text-align: right;\">\n",
       "      <th></th>\n",
       "      <th>Date</th>\n",
       "      <th>Headline</th>\n",
       "      <th>Polarity</th>\n",
       "      <th>Subjectivity</th>\n",
       "      <th>Sentiment</th>\n",
       "      <th>Opinion</th>\n",
       "      <th>Adj Close</th>\n",
       "      <th>Volume</th>\n",
       "      <th>HL_pct</th>\n",
       "      <th>PCT_change</th>\n",
       "    </tr>\n",
       "  </thead>\n",
       "  <tbody>\n",
       "    <tr>\n",
       "      <th>0</th>\n",
       "      <td>2014-10-09</td>\n",
       "      <td>. Jobs for those who don't like interacting. H...</td>\n",
       "      <td>0.093478</td>\n",
       "      <td>0.428911</td>\n",
       "      <td>Neutral</td>\n",
       "      <td>Public</td>\n",
       "      <td>26637.279297</td>\n",
       "      <td>7500</td>\n",
       "      <td>1.115731</td>\n",
       "      <td>0.920311</td>\n",
       "    </tr>\n",
       "    <tr>\n",
       "      <th>1</th>\n",
       "      <td>2014-10-10</td>\n",
       "      <td>. Don't turn tablets into toys for kids. How f...</td>\n",
       "      <td>0.065687</td>\n",
       "      <td>0.420088</td>\n",
       "      <td>Neutral</td>\n",
       "      <td>Public</td>\n",
       "      <td>26297.380859</td>\n",
       "      <td>9200</td>\n",
       "      <td>1.120687</td>\n",
       "      <td>-0.957976</td>\n",
       "    </tr>\n",
       "    <tr>\n",
       "      <th>2</th>\n",
       "      <td>2014-10-13</td>\n",
       "      <td>. How to reveal your feelings to the guy you l...</td>\n",
       "      <td>0.073393</td>\n",
       "      <td>0.414125</td>\n",
       "      <td>Neutral</td>\n",
       "      <td>Public</td>\n",
       "      <td>26384.070312</td>\n",
       "      <td>6400</td>\n",
       "      <td>1.343176</td>\n",
       "      <td>0.414842</td>\n",
       "    </tr>\n",
       "    <tr>\n",
       "      <th>3</th>\n",
       "      <td>2014-10-14</td>\n",
       "      <td>. The emotional intelligence advantage. Learn ...</td>\n",
       "      <td>0.087402</td>\n",
       "      <td>0.414189</td>\n",
       "      <td>Neutral</td>\n",
       "      <td>Public</td>\n",
       "      <td>26349.330078</td>\n",
       "      <td>11900</td>\n",
       "      <td>1.292458</td>\n",
       "      <td>-0.708772</td>\n",
       "    </tr>\n",
       "    <tr>\n",
       "      <th>4</th>\n",
       "      <td>2014-10-16</td>\n",
       "      <td>. Recipe: Stuffed cobra rice roll. How to mana...</td>\n",
       "      <td>0.068723</td>\n",
       "      <td>0.396495</td>\n",
       "      <td>Neutral</td>\n",
       "      <td>Factual</td>\n",
       "      <td>25999.339844</td>\n",
       "      <td>10700</td>\n",
       "      <td>2.036323</td>\n",
       "      <td>-0.993931</td>\n",
       "    </tr>\n",
       "  </tbody>\n",
       "</table>\n",
       "</div>"
      ],
      "text/plain": [
       "        Date                                           Headline  Polarity  \\\n",
       "0 2014-10-09  . Jobs for those who don't like interacting. H...  0.093478   \n",
       "1 2014-10-10  . Don't turn tablets into toys for kids. How f...  0.065687   \n",
       "2 2014-10-13  . How to reveal your feelings to the guy you l...  0.073393   \n",
       "3 2014-10-14  . The emotional intelligence advantage. Learn ...  0.087402   \n",
       "4 2014-10-16  . Recipe: Stuffed cobra rice roll. How to mana...  0.068723   \n",
       "\n",
       "   Subjectivity Sentiment  Opinion     Adj Close  Volume    HL_pct  PCT_change  \n",
       "0      0.428911   Neutral   Public  26637.279297    7500  1.115731    0.920311  \n",
       "1      0.420088   Neutral   Public  26297.380859    9200  1.120687   -0.957976  \n",
       "2      0.414125   Neutral   Public  26384.070312    6400  1.343176    0.414842  \n",
       "3      0.414189   Neutral   Public  26349.330078   11900  1.292458   -0.708772  \n",
       "4      0.396495   Neutral  Factual  25999.339844   10700  2.036323   -0.993931  "
      ]
     },
     "execution_count": 70,
     "metadata": {},
     "output_type": "execute_result"
    }
   ],
   "source": [
    "stocks['Date'] = pd.to_datetime(stocks['Date'])\n",
    "merge_data = df_news.merge(stocks, how='inner', on='Date', left_index = True)\n",
    "merge_data.head()"
   ]
  },
  {
   "cell_type": "code",
   "execution_count": 71,
   "metadata": {},
   "outputs": [
    {
     "name": "stdout",
     "output_type": "stream",
     "text": [
      "<class 'pandas.core.frame.DataFrame'>\n",
      "Int64Index: 1397 entries, 0 to 1396\n",
      "Data columns (total 10 columns):\n",
      "Date            1397 non-null datetime64[ns]\n",
      "Headline        1397 non-null object\n",
      "Polarity        1397 non-null float64\n",
      "Subjectivity    1397 non-null float64\n",
      "Sentiment       1397 non-null object\n",
      "Opinion         1397 non-null object\n",
      "Adj Close       1397 non-null float64\n",
      "Volume          1397 non-null int64\n",
      "HL_pct          1397 non-null float64\n",
      "PCT_change      1397 non-null float64\n",
      "dtypes: datetime64[ns](1), float64(5), int64(1), object(3)\n",
      "memory usage: 120.1+ KB\n"
     ]
    }
   ],
   "source": [
    "merge_data.info()"
   ]
  },
  {
   "cell_type": "markdown",
   "metadata": {},
   "source": [
    "### Required columns of the Merged Dataset"
   ]
  },
  {
   "cell_type": "code",
   "execution_count": 72,
   "metadata": {},
   "outputs": [
    {
     "data": {
      "text/html": [
       "<div>\n",
       "<style scoped>\n",
       "    .dataframe tbody tr th:only-of-type {\n",
       "        vertical-align: middle;\n",
       "    }\n",
       "\n",
       "    .dataframe tbody tr th {\n",
       "        vertical-align: top;\n",
       "    }\n",
       "\n",
       "    .dataframe thead th {\n",
       "        text-align: right;\n",
       "    }\n",
       "</style>\n",
       "<table border=\"1\" class=\"dataframe\">\n",
       "  <thead>\n",
       "    <tr style=\"text-align: right;\">\n",
       "      <th></th>\n",
       "      <th>Date</th>\n",
       "      <th>Polarity</th>\n",
       "      <th>Subjectivity</th>\n",
       "      <th>Adj Close</th>\n",
       "      <th>HL_pct</th>\n",
       "      <th>PCT_change</th>\n",
       "    </tr>\n",
       "  </thead>\n",
       "  <tbody>\n",
       "    <tr>\n",
       "      <th>0</th>\n",
       "      <td>2014-10-09</td>\n",
       "      <td>0.093478</td>\n",
       "      <td>0.428911</td>\n",
       "      <td>26637.279297</td>\n",
       "      <td>1.115731</td>\n",
       "      <td>0.920311</td>\n",
       "    </tr>\n",
       "    <tr>\n",
       "      <th>1</th>\n",
       "      <td>2014-10-10</td>\n",
       "      <td>0.065687</td>\n",
       "      <td>0.420088</td>\n",
       "      <td>26297.380859</td>\n",
       "      <td>1.120687</td>\n",
       "      <td>-0.957976</td>\n",
       "    </tr>\n",
       "    <tr>\n",
       "      <th>2</th>\n",
       "      <td>2014-10-13</td>\n",
       "      <td>0.073393</td>\n",
       "      <td>0.414125</td>\n",
       "      <td>26384.070312</td>\n",
       "      <td>1.343176</td>\n",
       "      <td>0.414842</td>\n",
       "    </tr>\n",
       "    <tr>\n",
       "      <th>3</th>\n",
       "      <td>2014-10-14</td>\n",
       "      <td>0.087402</td>\n",
       "      <td>0.414189</td>\n",
       "      <td>26349.330078</td>\n",
       "      <td>1.292458</td>\n",
       "      <td>-0.708772</td>\n",
       "    </tr>\n",
       "    <tr>\n",
       "      <th>4</th>\n",
       "      <td>2014-10-16</td>\n",
       "      <td>0.068723</td>\n",
       "      <td>0.396495</td>\n",
       "      <td>25999.339844</td>\n",
       "      <td>2.036323</td>\n",
       "      <td>-0.993931</td>\n",
       "    </tr>\n",
       "  </tbody>\n",
       "</table>\n",
       "</div>"
      ],
      "text/plain": [
       "        Date  Polarity  Subjectivity     Adj Close    HL_pct  PCT_change\n",
       "0 2014-10-09  0.093478      0.428911  26637.279297  1.115731    0.920311\n",
       "1 2014-10-10  0.065687      0.420088  26297.380859  1.120687   -0.957976\n",
       "2 2014-10-13  0.073393      0.414125  26384.070312  1.343176    0.414842\n",
       "3 2014-10-14  0.087402      0.414189  26349.330078  1.292458   -0.708772\n",
       "4 2014-10-16  0.068723      0.396495  25999.339844  2.036323   -0.993931"
      ]
     },
     "execution_count": 72,
     "metadata": {},
     "output_type": "execute_result"
    }
   ],
   "source": [
    "df_needed = merge_data[['Date', 'Polarity', 'Subjectivity','Adj Close','HL_pct','PCT_change']]\n",
    "df_needed.head()"
   ]
  },
  {
   "cell_type": "code",
   "execution_count": 74,
   "metadata": {},
   "outputs": [
    {
     "data": {
      "text/html": [
       "<div>\n",
       "<style scoped>\n",
       "    .dataframe tbody tr th:only-of-type {\n",
       "        vertical-align: middle;\n",
       "    }\n",
       "\n",
       "    .dataframe tbody tr th {\n",
       "        vertical-align: top;\n",
       "    }\n",
       "\n",
       "    .dataframe thead th {\n",
       "        text-align: right;\n",
       "    }\n",
       "</style>\n",
       "<table border=\"1\" class=\"dataframe\">\n",
       "  <thead>\n",
       "    <tr style=\"text-align: right;\">\n",
       "      <th></th>\n",
       "      <th>Polarity</th>\n",
       "      <th>Subjectivity</th>\n",
       "      <th>Adj Close</th>\n",
       "      <th>HL_pct</th>\n",
       "      <th>PCT_change</th>\n",
       "    </tr>\n",
       "    <tr>\n",
       "      <th>Date</th>\n",
       "      <th></th>\n",
       "      <th></th>\n",
       "      <th></th>\n",
       "      <th></th>\n",
       "      <th></th>\n",
       "    </tr>\n",
       "  </thead>\n",
       "  <tbody>\n",
       "    <tr>\n",
       "      <th>2014-10-09</th>\n",
       "      <td>0.093478</td>\n",
       "      <td>0.428911</td>\n",
       "      <td>26637.279297</td>\n",
       "      <td>1.115731</td>\n",
       "      <td>0.920311</td>\n",
       "    </tr>\n",
       "    <tr>\n",
       "      <th>2014-10-10</th>\n",
       "      <td>0.065687</td>\n",
       "      <td>0.420088</td>\n",
       "      <td>26297.380859</td>\n",
       "      <td>1.120687</td>\n",
       "      <td>-0.957976</td>\n",
       "    </tr>\n",
       "    <tr>\n",
       "      <th>2014-10-13</th>\n",
       "      <td>0.073393</td>\n",
       "      <td>0.414125</td>\n",
       "      <td>26384.070312</td>\n",
       "      <td>1.343176</td>\n",
       "      <td>0.414842</td>\n",
       "    </tr>\n",
       "    <tr>\n",
       "      <th>2014-10-14</th>\n",
       "      <td>0.087402</td>\n",
       "      <td>0.414189</td>\n",
       "      <td>26349.330078</td>\n",
       "      <td>1.292458</td>\n",
       "      <td>-0.708772</td>\n",
       "    </tr>\n",
       "    <tr>\n",
       "      <th>2014-10-16</th>\n",
       "      <td>0.068723</td>\n",
       "      <td>0.396495</td>\n",
       "      <td>25999.339844</td>\n",
       "      <td>2.036323</td>\n",
       "      <td>-0.993931</td>\n",
       "    </tr>\n",
       "  </tbody>\n",
       "</table>\n",
       "</div>"
      ],
      "text/plain": [
       "            Polarity  Subjectivity     Adj Close    HL_pct  PCT_change\n",
       "Date                                                                  \n",
       "2014-10-09  0.093478      0.428911  26637.279297  1.115731    0.920311\n",
       "2014-10-10  0.065687      0.420088  26297.380859  1.120687   -0.957976\n",
       "2014-10-13  0.073393      0.414125  26384.070312  1.343176    0.414842\n",
       "2014-10-14  0.087402      0.414189  26349.330078  1.292458   -0.708772\n",
       "2014-10-16  0.068723      0.396495  25999.339844  2.036323   -0.993931"
      ]
     },
     "execution_count": 74,
     "metadata": {},
     "output_type": "execute_result"
    }
   ],
   "source": [
    "df_needed = df_needed.set_index('Date')\n",
    "df_needed.head()"
   ]
  },
  {
   "cell_type": "markdown",
   "metadata": {},
   "source": [
    "### Using MinMaxScaler to develop a model based on it "
   ]
  },
  {
   "cell_type": "code",
   "execution_count": 91,
   "metadata": {},
   "outputs": [
    {
     "data": {
      "text/html": [
       "<div>\n",
       "<style scoped>\n",
       "    .dataframe tbody tr th:only-of-type {\n",
       "        vertical-align: middle;\n",
       "    }\n",
       "\n",
       "    .dataframe tbody tr th {\n",
       "        vertical-align: top;\n",
       "    }\n",
       "\n",
       "    .dataframe thead th {\n",
       "        text-align: right;\n",
       "    }\n",
       "</style>\n",
       "<table border=\"1\" class=\"dataframe\">\n",
       "  <thead>\n",
       "    <tr style=\"text-align: right;\">\n",
       "      <th></th>\n",
       "      <th>Polarity</th>\n",
       "      <th>Subjectivity</th>\n",
       "      <th>Adj Close</th>\n",
       "      <th>HL_pct</th>\n",
       "      <th>PCT_change</th>\n",
       "    </tr>\n",
       "    <tr>\n",
       "      <th>Date</th>\n",
       "      <th></th>\n",
       "      <th></th>\n",
       "      <th></th>\n",
       "      <th></th>\n",
       "      <th></th>\n",
       "    </tr>\n",
       "  </thead>\n",
       "  <tbody>\n",
       "    <tr>\n",
       "      <th>2014-10-09</th>\n",
       "      <td>0.628196</td>\n",
       "      <td>0.690516</td>\n",
       "      <td>0.193963</td>\n",
       "      <td>0.046432</td>\n",
       "      <td>0.480135</td>\n",
       "    </tr>\n",
       "    <tr>\n",
       "      <th>2014-10-10</th>\n",
       "      <td>0.477802</td>\n",
       "      <td>0.627213</td>\n",
       "      <td>0.176074</td>\n",
       "      <td>0.046707</td>\n",
       "      <td>0.363001</td>\n",
       "    </tr>\n",
       "    <tr>\n",
       "      <th>2014-10-13</th>\n",
       "      <td>0.519500</td>\n",
       "      <td>0.584427</td>\n",
       "      <td>0.180637</td>\n",
       "      <td>0.059047</td>\n",
       "      <td>0.448613</td>\n",
       "    </tr>\n",
       "    <tr>\n",
       "      <th>2014-10-14</th>\n",
       "      <td>0.595314</td>\n",
       "      <td>0.584891</td>\n",
       "      <td>0.178808</td>\n",
       "      <td>0.056234</td>\n",
       "      <td>0.378542</td>\n",
       "    </tr>\n",
       "    <tr>\n",
       "      <th>2014-10-16</th>\n",
       "      <td>0.494230</td>\n",
       "      <td>0.457936</td>\n",
       "      <td>0.160389</td>\n",
       "      <td>0.097493</td>\n",
       "      <td>0.360759</td>\n",
       "    </tr>\n",
       "  </tbody>\n",
       "</table>\n",
       "</div>"
      ],
      "text/plain": [
       "            Polarity  Subjectivity  Adj Close    HL_pct  PCT_change\n",
       "Date                                                               \n",
       "2014-10-09  0.628196      0.690516   0.193963  0.046432    0.480135\n",
       "2014-10-10  0.477802      0.627213   0.176074  0.046707    0.363001\n",
       "2014-10-13  0.519500      0.584427   0.180637  0.059047    0.448613\n",
       "2014-10-14  0.595314      0.584891   0.178808  0.056234    0.378542\n",
       "2014-10-16  0.494230      0.457936   0.160389  0.097493    0.360759"
      ]
     },
     "execution_count": 91,
     "metadata": {},
     "output_type": "execute_result"
    }
   ],
   "source": [
    "scaler = MinMaxScaler()\n",
    "new = pd.DataFrame(scaler.fit_transform(df_needed))\n",
    "new.columns = df_needed.columns\n",
    "new.index=df_needed.index\n",
    "new.head()"
   ]
  },
  {
   "cell_type": "code",
   "execution_count": 252,
   "metadata": {},
   "outputs": [
    {
     "name": "stderr",
     "output_type": "stream",
     "text": [
      "C:\\Users\\Anusha\\Anaconda3\\lib\\site-packages\\statsmodels\\tsa\\base\\tsa_model.py:225: ValueWarning: A date index has been provided, but it has no associated frequency information and so will be ignored when e.g. forecasting.\n",
      "  ' ignored when e.g. forecasting.', ValueWarning)\n"
     ]
    }
   ],
   "source": [
    "trainSet = new[: int(0.7*(len(new)))]\n",
    "testSet = new[int(0.7*(len(new))):]\n",
    "\n",
    "model = VAR(endog = trainSet)\n",
    "fit = model.fit()"
   ]
  },
  {
   "cell_type": "code",
   "execution_count": 253,
   "metadata": {},
   "outputs": [
    {
     "data": {
      "text/html": [
       "<div>\n",
       "<style scoped>\n",
       "    .dataframe tbody tr th:only-of-type {\n",
       "        vertical-align: middle;\n",
       "    }\n",
       "\n",
       "    .dataframe tbody tr th {\n",
       "        vertical-align: top;\n",
       "    }\n",
       "\n",
       "    .dataframe thead th {\n",
       "        text-align: right;\n",
       "    }\n",
       "</style>\n",
       "<table border=\"1\" class=\"dataframe\">\n",
       "  <thead>\n",
       "    <tr style=\"text-align: right;\">\n",
       "      <th></th>\n",
       "      <th>Polarity</th>\n",
       "      <th>Subjectivity</th>\n",
       "      <th>Adj Close</th>\n",
       "      <th>HL_pct</th>\n",
       "      <th>PCT_change</th>\n",
       "    </tr>\n",
       "    <tr>\n",
       "      <th>Date</th>\n",
       "      <th></th>\n",
       "      <th></th>\n",
       "      <th></th>\n",
       "      <th></th>\n",
       "      <th></th>\n",
       "    </tr>\n",
       "  </thead>\n",
       "  <tbody>\n",
       "    <tr>\n",
       "      <th>2014-10-09</th>\n",
       "      <td>0.628196</td>\n",
       "      <td>0.690516</td>\n",
       "      <td>0.193963</td>\n",
       "      <td>0.046432</td>\n",
       "      <td>0.480135</td>\n",
       "    </tr>\n",
       "    <tr>\n",
       "      <th>2014-10-10</th>\n",
       "      <td>0.477802</td>\n",
       "      <td>0.627213</td>\n",
       "      <td>0.176074</td>\n",
       "      <td>0.046707</td>\n",
       "      <td>0.363001</td>\n",
       "    </tr>\n",
       "    <tr>\n",
       "      <th>2014-10-13</th>\n",
       "      <td>0.519500</td>\n",
       "      <td>0.584427</td>\n",
       "      <td>0.180637</td>\n",
       "      <td>0.059047</td>\n",
       "      <td>0.448613</td>\n",
       "    </tr>\n",
       "    <tr>\n",
       "      <th>2014-10-14</th>\n",
       "      <td>0.595314</td>\n",
       "      <td>0.584891</td>\n",
       "      <td>0.178808</td>\n",
       "      <td>0.056234</td>\n",
       "      <td>0.378542</td>\n",
       "    </tr>\n",
       "    <tr>\n",
       "      <th>2014-10-16</th>\n",
       "      <td>0.494230</td>\n",
       "      <td>0.457936</td>\n",
       "      <td>0.160389</td>\n",
       "      <td>0.097493</td>\n",
       "      <td>0.360759</td>\n",
       "    </tr>\n",
       "  </tbody>\n",
       "</table>\n",
       "</div>"
      ],
      "text/plain": [
       "            Polarity  Subjectivity  Adj Close    HL_pct  PCT_change\n",
       "Date                                                               \n",
       "2014-10-09  0.628196      0.690516   0.193963  0.046432    0.480135\n",
       "2014-10-10  0.477802      0.627213   0.176074  0.046707    0.363001\n",
       "2014-10-13  0.519500      0.584427   0.180637  0.059047    0.448613\n",
       "2014-10-14  0.595314      0.584891   0.178808  0.056234    0.378542\n",
       "2014-10-16  0.494230      0.457936   0.160389  0.097493    0.360759"
      ]
     },
     "execution_count": 253,
     "metadata": {},
     "output_type": "execute_result"
    }
   ],
   "source": [
    "trainSet.head()"
   ]
  },
  {
   "cell_type": "code",
   "execution_count": 254,
   "metadata": {},
   "outputs": [],
   "source": [
    "pred = fit.forecast(fit.y, steps=len(testSet))\n",
    "predicted = pd.DataFrame(pred,columns = df_needed.columns)"
   ]
  },
  {
   "cell_type": "code",
   "execution_count": 255,
   "metadata": {},
   "outputs": [
    {
     "data": {
      "text/html": [
       "<div>\n",
       "<style scoped>\n",
       "    .dataframe tbody tr th:only-of-type {\n",
       "        vertical-align: middle;\n",
       "    }\n",
       "\n",
       "    .dataframe tbody tr th {\n",
       "        vertical-align: top;\n",
       "    }\n",
       "\n",
       "    .dataframe thead th {\n",
       "        text-align: right;\n",
       "    }\n",
       "</style>\n",
       "<table border=\"1\" class=\"dataframe\">\n",
       "  <thead>\n",
       "    <tr style=\"text-align: right;\">\n",
       "      <th></th>\n",
       "      <th>Polarity</th>\n",
       "      <th>Subjectivity</th>\n",
       "      <th>Adj Close</th>\n",
       "      <th>HL_pct</th>\n",
       "      <th>PCT_change</th>\n",
       "    </tr>\n",
       "  </thead>\n",
       "  <tbody>\n",
       "    <tr>\n",
       "      <th>0</th>\n",
       "      <td>0.419714</td>\n",
       "      <td>0.467933</td>\n",
       "      <td>0.683852</td>\n",
       "      <td>0.049454</td>\n",
       "      <td>0.406868</td>\n",
       "    </tr>\n",
       "    <tr>\n",
       "      <th>1</th>\n",
       "      <td>0.411609</td>\n",
       "      <td>0.454217</td>\n",
       "      <td>0.683818</td>\n",
       "      <td>0.035352</td>\n",
       "      <td>0.411982</td>\n",
       "    </tr>\n",
       "    <tr>\n",
       "      <th>2</th>\n",
       "      <td>0.407566</td>\n",
       "      <td>0.445268</td>\n",
       "      <td>0.683909</td>\n",
       "      <td>0.031554</td>\n",
       "      <td>0.413045</td>\n",
       "    </tr>\n",
       "    <tr>\n",
       "      <th>3</th>\n",
       "      <td>0.405901</td>\n",
       "      <td>0.442160</td>\n",
       "      <td>0.684037</td>\n",
       "      <td>0.030479</td>\n",
       "      <td>0.413330</td>\n",
       "    </tr>\n",
       "    <tr>\n",
       "      <th>4</th>\n",
       "      <td>0.405291</td>\n",
       "      <td>0.441180</td>\n",
       "      <td>0.684177</td>\n",
       "      <td>0.030168</td>\n",
       "      <td>0.413415</td>\n",
       "    </tr>\n",
       "  </tbody>\n",
       "</table>\n",
       "</div>"
      ],
      "text/plain": [
       "   Polarity  Subjectivity  Adj Close    HL_pct  PCT_change\n",
       "0  0.419714      0.467933   0.683852  0.049454    0.406868\n",
       "1  0.411609      0.454217   0.683818  0.035352    0.411982\n",
       "2  0.407566      0.445268   0.683909  0.031554    0.413045\n",
       "3  0.405901      0.442160   0.684037  0.030479    0.413330\n",
       "4  0.405291      0.441180   0.684177  0.030168    0.413415"
      ]
     },
     "execution_count": 255,
     "metadata": {},
     "output_type": "execute_result"
    }
   ],
   "source": [
    "predicted.head()"
   ]
  },
  {
   "cell_type": "code",
   "execution_count": 256,
   "metadata": {},
   "outputs": [
    {
     "data": {
      "text/html": [
       "<div>\n",
       "<style scoped>\n",
       "    .dataframe tbody tr th:only-of-type {\n",
       "        vertical-align: middle;\n",
       "    }\n",
       "\n",
       "    .dataframe tbody tr th {\n",
       "        vertical-align: top;\n",
       "    }\n",
       "\n",
       "    .dataframe thead th {\n",
       "        text-align: right;\n",
       "    }\n",
       "</style>\n",
       "<table border=\"1\" class=\"dataframe\">\n",
       "  <thead>\n",
       "    <tr style=\"text-align: right;\">\n",
       "      <th></th>\n",
       "      <th>Polarity</th>\n",
       "      <th>Subjectivity</th>\n",
       "      <th>Adj Close</th>\n",
       "      <th>HL_pct</th>\n",
       "      <th>PCT_change</th>\n",
       "    </tr>\n",
       "    <tr>\n",
       "      <th>Date</th>\n",
       "      <th></th>\n",
       "      <th></th>\n",
       "      <th></th>\n",
       "      <th></th>\n",
       "      <th></th>\n",
       "    </tr>\n",
       "  </thead>\n",
       "  <tbody>\n",
       "    <tr>\n",
       "      <th>2018-10-04</th>\n",
       "      <td>0.306379</td>\n",
       "      <td>0.469504</td>\n",
       "      <td>0.642990</td>\n",
       "      <td>0.110993</td>\n",
       "      <td>0.309342</td>\n",
       "    </tr>\n",
       "    <tr>\n",
       "      <th>2018-10-05</th>\n",
       "      <td>0.424176</td>\n",
       "      <td>0.436689</td>\n",
       "      <td>0.601299</td>\n",
       "      <td>0.133146</td>\n",
       "      <td>0.294636</td>\n",
       "    </tr>\n",
       "    <tr>\n",
       "      <th>2018-10-08</th>\n",
       "      <td>0.484947</td>\n",
       "      <td>0.251124</td>\n",
       "      <td>0.606424</td>\n",
       "      <td>0.092584</td>\n",
       "      <td>0.433982</td>\n",
       "    </tr>\n",
       "    <tr>\n",
       "      <th>2018-10-09</th>\n",
       "      <td>0.585180</td>\n",
       "      <td>0.503767</td>\n",
       "      <td>0.597219</td>\n",
       "      <td>0.062022</td>\n",
       "      <td>0.359331</td>\n",
       "    </tr>\n",
       "    <tr>\n",
       "      <th>2018-10-10</th>\n",
       "      <td>0.615309</td>\n",
       "      <td>0.468899</td>\n",
       "      <td>0.621503</td>\n",
       "      <td>0.067205</td>\n",
       "      <td>0.471138</td>\n",
       "    </tr>\n",
       "  </tbody>\n",
       "</table>\n",
       "</div>"
      ],
      "text/plain": [
       "            Polarity  Subjectivity  Adj Close    HL_pct  PCT_change\n",
       "Date                                                               \n",
       "2018-10-04  0.306379      0.469504   0.642990  0.110993    0.309342\n",
       "2018-10-05  0.424176      0.436689   0.601299  0.133146    0.294636\n",
       "2018-10-08  0.484947      0.251124   0.606424  0.092584    0.433982\n",
       "2018-10-09  0.585180      0.503767   0.597219  0.062022    0.359331\n",
       "2018-10-10  0.615309      0.468899   0.621503  0.067205    0.471138"
      ]
     },
     "execution_count": 256,
     "metadata": {},
     "output_type": "execute_result"
    }
   ],
   "source": [
    "testSet.head()"
   ]
  },
  {
   "cell_type": "markdown",
   "metadata": {},
   "source": [
    "### Checking the accuracy"
   ]
  },
  {
   "cell_type": "code",
   "execution_count": 257,
   "metadata": {},
   "outputs": [
    {
     "data": {
      "text/plain": [
       "0.1733784982546075"
      ]
     },
     "execution_count": 257,
     "metadata": {},
     "output_type": "execute_result"
    }
   ],
   "source": [
    "np.sqrt(mean_squared_error(predicted['Adj Close'], testSet['Adj Close']))"
   ]
  },
  {
   "cell_type": "code",
   "execution_count": 287,
   "metadata": {},
   "outputs": [
    {
     "data": {
      "text/plain": [
       "<matplotlib.legend.Legend at 0x189241d9518>"
      ]
     },
     "execution_count": 287,
     "metadata": {},
     "output_type": "execute_result"
    },
    {
     "data": {
      "image/png": "[encoded data removed]",
      "text/plain": [
       "<Figure size 1440x720 with 1 Axes>"
      ]
     },
     "metadata": {
      "needs_background": "light"
     },
     "output_type": "display_data"
    }
   ],
   "source": [
    "plt.figure(figsize=(20,10))\n",
    "plt.plot(testSet['Adj Close'],label='True')\n",
    "plt.plot(testSet.index,predicted['Adj Close'],label='Prediction')\n",
    "plt.legend()\n"
   ]
  },
  {
   "cell_type": "code",
   "execution_count": 288,
   "metadata": {},
   "outputs": [
    {
     "name": "stderr",
     "output_type": "stream",
     "text": [
      "C:\\Users\\Anusha\\Anaconda3\\lib\\site-packages\\seaborn\\axisgrid.py:1847: UserWarning: JointGrid annotation is deprecated and will be removed in a future release.\n",
      "  warnings.warn(UserWarning(msg))\n"
     ]
    },
    {
     "data": {
      "image/png": "[encoded data removed]",
      "text/plain": [
       "<Figure size 432x432 with 3 Axes>"
      ]
     },
     "metadata": {
      "needs_background": "light"
     },
     "output_type": "display_data"
    }
   ],
   "source": [
    "sns.jointplot(testSet['Adj Close'], predicted['Adj Close']).annotate(stats.pearsonr)\n",
    "plt.show()"
   ]
  }
 ],
 "metadata": {
  "kernelspec": {
   "display_name": "Python 3",
   "language": "python",
   "name": "python3"
  },
  "language_info": {
   "codemirror_mode": {
    "name": "ipython",
    "version": 3
   },
   "file_extension": ".py",
   "mimetype": "text/x-python",
   "name": "python",
   "nbconvert_exporter": "python",
   "pygments_lexer": "ipython3",
   "version": "3.7.3"
  }
 },
 "nbformat": 4,
 "nbformat_minor": 2
}
